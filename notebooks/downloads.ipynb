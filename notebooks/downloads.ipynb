{
 "cells": [
  {
   "cell_type": "markdown",
   "id": "6e9b6628",
   "metadata": {},
   "source": [
    "## Importing Necessary Libaries"
   ]
  },
  {
   "cell_type": "code",
   "execution_count": 2,
   "id": "14f043e0",
   "metadata": {},
   "outputs": [],
   "source": [
    "import pandas as pd\n",
    "import os"
   ]
  },
  {
   "cell_type": "markdown",
   "id": "47ddccdf",
   "metadata": {},
   "source": [
    "## Load and Inspect CSV"
   ]
  },
  {
   "cell_type": "code",
   "execution_count": 5,
   "id": "0f2aaebc",
   "metadata": {},
   "outputs": [
    {
     "name": "stdout",
     "output_type": "stream",
     "text": [
      "Kaggle Reviews Dataset:\n",
      "Loaded 1100 reviews\n",
      "Columns: ['business_name', 'author_name', 'text', 'photo', 'rating', 'rating_category']\n",
      "\n",
      "First 5 rows:\n",
      "                     business_name    author_name  \\\n",
      "0  Haci'nin Yeri - Yigit Lokantasi    Gulsum Akar   \n",
      "1  Haci'nin Yeri - Yigit Lokantasi  Oguzhan Cetin   \n",
      "2  Haci'nin Yeri - Yigit Lokantasi     Yasin Kuyu   \n",
      "3  Haci'nin Yeri - Yigit Lokantasi     Orhan Kapu   \n",
      "4  Haci'nin Yeri - Yigit Lokantasi     Ozgur Sati   \n",
      "\n",
      "                                                text  \\\n",
      "0  We went to Marmaris with my wife for a holiday...   \n",
      "1  During my holiday in Marmaris we ate here to f...   \n",
      "2  Prices are very affordable. The menu in the ph...   \n",
      "3  Turkey's cheapest artisan restaurant and its f...   \n",
      "4  I don't know what you will look for in terms o...   \n",
      "\n",
      "                                               photo  rating  \\\n",
      "0         dataset/taste/hacinin_yeri_gulsum_akar.png       5   \n",
      "1        dataset/menu/hacinin_yeri_oguzhan_cetin.png       4   \n",
      "2  dataset/outdoor_atmosphere/hacinin_yeri_yasin_...       3   \n",
      "3  dataset/indoor_atmosphere/hacinin_yeri_orhan_k...       5   \n",
      "4           dataset/menu/hacinin_yeri_ozgur_sati.png       3   \n",
      "\n",
      "      rating_category  \n",
      "0               taste  \n",
      "1                menu  \n",
      "2  outdoor_atmosphere  \n",
      "3   indoor_atmosphere  \n",
      "4                menu  \n",
      "\n",
      "Apify google maps review dataset:\n",
      "Loaded 1000 reviews\n",
      "Columns: ['title', 'url', 'stars', 'name', 'reviewUrl', 'text']\n",
      "\n",
      "First 5 rows:\n",
      "      title                                                url  stars  \\\n",
      "0  49 SEATS  https://www.google.com/maps/search/?api=1&quer...      5   \n",
      "1  49 SEATS  https://www.google.com/maps/search/?api=1&quer...      5   \n",
      "2  49 SEATS  https://www.google.com/maps/search/?api=1&quer...      5   \n",
      "3  49 SEATS  https://www.google.com/maps/search/?api=1&quer...      5   \n",
      "4  49 SEATS  https://www.google.com/maps/search/?api=1&quer...      4   \n",
      "\n",
      "              name                                          reviewUrl  \\\n",
      "0         yeong kx  https://www.google.com/maps/reviews/data=!4m8!...   \n",
      "1       Hannah Eva  https://www.google.com/maps/reviews/data=!4m8!...   \n",
      "2             Rain  https://www.google.com/maps/reviews/data=!4m8!...   \n",
      "3  Nicolette David  https://www.google.com/maps/reviews/data=!4m8!...   \n",
      "4           S dssp  https://www.google.com/maps/reviews/data=!4m8!...   \n",
      "\n",
      "                                                text  \n",
      "0                                                NaN  \n",
      "1  wowowow great vibes and food!! super eccentric...  \n",
      "2                                                NaN  \n",
      "3                                                NaN  \n",
      "4  We had the classic pasta and fish n chips with...  \n"
     ]
    }
   ],
   "source": [
    "try:\n",
    "    print(\"Kaggle Reviews Dataset:\")\n",
    "    # Update filename based on dir data\\*.csv output\n",
    "    csv_file = '../data/kaggle_reviews_raw.csv'\n",
    "    df_kaggle = pd.read_csv(csv_file)\n",
    "    print(f\"Loaded {len(df_kaggle)} reviews\")\n",
    "    print(\"Columns:\", df_kaggle.columns.tolist())\n",
    "    print(\"\\nFirst 5 rows:\")\n",
    "    print(df_kaggle.head())\n",
    "\n",
    "    print(\"\\nApify google maps review dataset:\")\n",
    "    csv2_file = '../data/google_reviews_apify_dataset.csv'\n",
    "    df_apify = pd.read_csv(csv2_file)\n",
    "    print(f\"Loaded {len(df_apify)} reviews\")\n",
    "    print(\"Columns:\", df_apify.columns.tolist())\n",
    "    print(\"\\nFirst 5 rows:\")\n",
    "    print(df_apify.head())\n",
    "except Exception as e:\n",
    "    print(f\"Error loading CSV: {e}\")\n",
    "    print(\"Files in data/:\")\n",
    "    for file in os.listdir('data/'):\n",
    "        if file.endswith('.csv'):\n",
    "            print(file)"
   ]
  },
  {
   "cell_type": "code",
   "execution_count": 6,
   "id": "910c6536",
   "metadata": {},
   "outputs": [
    {
     "data": {
      "text/plain": [
       "(1100, 6)"
      ]
     },
     "execution_count": 6,
     "metadata": {},
     "output_type": "execute_result"
    }
   ],
   "source": [
    "df_kaggle.shape"
   ]
  },
  {
   "cell_type": "code",
   "execution_count": 7,
   "id": "853bdc2e",
   "metadata": {},
   "outputs": [
    {
     "data": {
      "text/plain": [
       "(1000, 6)"
      ]
     },
     "execution_count": 7,
     "metadata": {},
     "output_type": "execute_result"
    }
   ],
   "source": [
    "df_apify.shape"
   ]
  },
  {
   "cell_type": "markdown",
   "id": "681040a2",
   "metadata": {},
   "source": [
    "## Analysis of Factors to keep for data cleaning\n",
    "\n",
    "We will need to combine the two files and extract out common factors found in both datasets, from kaggle and apify.\n",
    "\n",
    "## Factors to keep for model training\n",
    "1. Business (Business_name from kaggle and title from apify)\n",
    "2. Reviewer_Name (Author_name from kaggle and name from apify)\n",
    "3. Rating (Rating from kaggle and stars from apify)\n",
    "4. Review (text from both kaggle and apify)\n",
    "5. Cleaned_Reviews (from text in point 4)\n",
    "\n",
    "Other factors are not considered for the model training as they are not universal across both datasets, which affects the consistency when training the model."
   ]
  }
 ],
 "metadata": {
  "kernelspec": {
   "display_name": "Python 3",
   "language": "python",
   "name": "python3"
  },
  "language_info": {
   "codemirror_mode": {
    "name": "ipython",
    "version": 3
   },
   "file_extension": ".py",
   "mimetype": "text/x-python",
   "name": "python",
   "nbconvert_exporter": "python",
   "pygments_lexer": "ipython3",
   "version": "3.13.6"
  }
 },
 "nbformat": 4,
 "nbformat_minor": 5
}
