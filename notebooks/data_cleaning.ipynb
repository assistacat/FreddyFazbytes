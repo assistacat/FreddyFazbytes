{
 "cells": [
  {
   "cell_type": "markdown",
   "id": "3b300a00",
   "metadata": {},
   "source": [
    "## Data Cleaning\n",
    "\n",
    "### End Goal\n",
    "The goal of this notebook is to clean the data and prepare it for analysis. This includes combining the datasets, replacing N.A. values in reviews and filtering out rows where there was no rating given."
   ]
  },
  {
   "cell_type": "markdown",
   "id": "9672078b",
   "metadata": {},
   "source": [
    "### Import Dependencies"
   ]
  },
  {
   "cell_type": "code",
   "execution_count": 24,
   "id": "b62d364e",
   "metadata": {},
   "outputs": [],
   "source": [
    "import pandas as pd\n",
    "import re\n",
    "import numpy as np\n",
    "# for detection of none english text\n",
    "from langdetect import detect, DetectorFactory\n",
    "# for translation purposes\n",
    "from deep_translator import GoogleTranslator\n",
    "# for handling emojis\n",
    "import emoji\n",
    "\n",
    "# For consistency in language detection\n",
    "DetectorFactory.seed = 42"
   ]
  },
  {
   "cell_type": "markdown",
   "id": "949c16ae",
   "metadata": {},
   "source": [
    "### Import the datasets"
   ]
  },
  {
   "cell_type": "code",
   "execution_count": 25,
   "id": "84c04aa5",
   "metadata": {},
   "outputs": [],
   "source": [
    "df_apify = pd.read_csv('../data/google_reviews_apify_dataset.csv')\n",
    "df_kaggle =pd.read_csv('../data/kaggle_reviews_raw.csv')"
   ]
  },
  {
   "cell_type": "code",
   "execution_count": 27,
   "id": "92a2fe77",
   "metadata": {},
   "outputs": [
    {
     "name": "stdout",
     "output_type": "stream",
     "text": [
      "Kaggle: 1100 reviews, Apify: 1000 reviews\n",
      "Kaggle columns: ['business_name', 'author_name', 'text', 'photo', 'rating', 'rating_category']\n",
      "Apify columns: ['title', 'url', 'stars', 'name', 'reviewUrl', 'text']\n"
     ]
    }
   ],
   "source": [
    "# Dataset Statistics\n",
    "print(f\"Kaggle: {len(df_kaggle)} reviews, Apify: {len(df_apify)} reviews\")\n",
    "print(\"Kaggle columns:\", df_kaggle.columns.tolist())\n",
    "print(\"Apify columns:\", df_apify.columns.tolist())"
   ]
  },
  {
   "cell_type": "markdown",
   "id": "ead817e6",
   "metadata": {},
   "source": [
    "### Standardize columns"
   ]
  },
  {
   "cell_type": "code",
   "execution_count": 28,
   "id": "20dd2feb",
   "metadata": {},
   "outputs": [],
   "source": [
    "df_apify_filtered = df_apify[[\"title\", \"stars\", \"text\", \"name\"]].rename(columns={\n",
    "    \"title\": \"store_name\",\n",
    "    \"stars\": \"rating\",\n",
    "    \"text\": \"review\",\n",
    "    \"name\":\"reviewer_name\",\n",
    "})\n",
    "\n",
    "df_kaggle_filtered = df_kaggle[[\"business_name\", \"rating\", \"text\", \"author_name\"]].rename(columns={\n",
    "    \"business_name\": \"store_name\",\n",
    "    \"rating\": \"rating\",\n",
    "    \"text\": \"review\",\n",
    "    \"author_name\": \"reviewer_name\",\n",
    "})\n"
   ]
  },
  {
   "cell_type": "code",
   "execution_count": 30,
   "id": "91f44806",
   "metadata": {},
   "outputs": [
    {
     "name": "stdout",
     "output_type": "stream",
     "text": [
      "Updated column headers for df_apify: ['store_name', 'rating', 'review', 'reviewer_name']\n",
      "Updated column headers for df_kaggle: ['store_name', 'rating', 'review', 'reviewer_name']\n"
     ]
    }
   ],
   "source": [
    "print(\"Updated column headers for df_apify:\", df_apify_filtered.columns.tolist())\n",
    "print(\"Updated column headers for df_kaggle:\", df_kaggle_filtered.columns.tolist())"
   ]
  },
  {
   "cell_type": "markdown",
   "id": "0c8aad96",
   "metadata": {},
   "source": [
    "### Combining the datasets"
   ]
  },
  {
   "cell_type": "code",
   "execution_count": 31,
   "id": "a2579585",
   "metadata": {},
   "outputs": [],
   "source": [
    "df_combined = pd.concat([df_apify_filtered, df_kaggle_filtered], ignore_index=True)"
   ]
  },
  {
   "cell_type": "code",
   "execution_count": 32,
   "id": "4856bd11",
   "metadata": {},
   "outputs": [
    {
     "name": "stdout",
     "output_type": "stream",
     "text": [
      "<class 'pandas.core.frame.DataFrame'>\n",
      "RangeIndex: 2100 entries, 0 to 2099\n",
      "Data columns (total 4 columns):\n",
      " #   Column         Non-Null Count  Dtype \n",
      "---  ------         --------------  ----- \n",
      " 0   store_name     2100 non-null   object\n",
      " 1   rating         2100 non-null   int64 \n",
      " 2   review         1845 non-null   object\n",
      " 3   reviewer_name  2100 non-null   object\n",
      "dtypes: int64(1), object(3)\n",
      "memory usage: 65.8+ KB\n"
     ]
    }
   ],
   "source": [
    "df_combined.info()"
   ]
  },
  {
   "cell_type": "markdown",
   "id": "6a14b60a",
   "metadata": {},
   "source": [
    "### Replacing Rows with no reviews with \"No reviews\""
   ]
  },
  {
   "cell_type": "code",
   "execution_count": 33,
   "id": "a2966f48",
   "metadata": {},
   "outputs": [],
   "source": [
    "df_combined[\"review\"] = df_combined[\"review\"].replace(\"\", \"No reviews\").replace(np.nan, \"No reviews\")"
   ]
  },
  {
   "cell_type": "code",
   "execution_count": 34,
   "id": "adfa4c20",
   "metadata": {},
   "outputs": [
    {
     "data": {
      "text/plain": [
       "np.False_"
      ]
     },
     "execution_count": 34,
     "metadata": {},
     "output_type": "execute_result"
    }
   ],
   "source": [
    "# confirming no missing values\n",
    "df_combined[\"review\"].isna().any()"
   ]
  },
  {
   "cell_type": "markdown",
   "id": "049a66ba",
   "metadata": {},
   "source": [
    "### Handling of emojis in reviews"
   ]
  },
  {
   "cell_type": "code",
   "execution_count": 35,
   "id": "a54e4fc3",
   "metadata": {},
   "outputs": [],
   "source": [
    "def remove_emojis(review):\n",
    "    if emoji.emoji_count(review) > 0:\n",
    "        # Replace emojis with their text representation\n",
    "        review = emoji.replace_emoji(review, '')\n",
    "    return review\n",
    "\n",
    "df_combined[\"review\"] = df_combined[\"review\"].apply(remove_emojis)"
   ]
  },
  {
   "cell_type": "code",
   "execution_count": 36,
   "id": "ff7c3704",
   "metadata": {},
   "outputs": [
    {
     "data": {
      "text/plain": [
       "np.int64(0)"
      ]
     },
     "execution_count": 36,
     "metadata": {},
     "output_type": "execute_result"
    }
   ],
   "source": [
    "# check for presence of emojis in reviews\n",
    "df_combined[\"review\"].apply(emoji.emoji_count).sum()"
   ]
  },
  {
   "cell_type": "code",
   "execution_count": 41,
   "id": "80f882ee",
   "metadata": {},
   "outputs": [],
   "source": [
    "df_combined[\"review\"].replace('', 'No reviews', inplace=True)"
   ]
  },
  {
   "cell_type": "markdown",
   "id": "4c998c37",
   "metadata": {},
   "source": [
    "Number of empty reviews after removing emojis"
   ]
  },
  {
   "cell_type": "code",
   "execution_count": 42,
   "id": "a5b84e7e",
   "metadata": {},
   "outputs": [
    {
     "name": "stdout",
     "output_type": "stream",
     "text": [
      "Total empty reviews detected: 0\n"
     ]
    }
   ],
   "source": [
    "count = 0\n",
    "for each in df_combined[\"review\"]:\n",
    "    if (each == ''):\n",
    "        print(\"Empty review detected\")\n",
    "        count += 1\n",
    "print(f\"Total empty reviews detected: {count}\")"
   ]
  },
  {
   "cell_type": "code",
   "execution_count": 43,
   "id": "59009e6a",
   "metadata": {},
   "outputs": [
    {
     "data": {
      "text/html": [
       "<div>\n",
       "<style scoped>\n",
       "    .dataframe tbody tr th:only-of-type {\n",
       "        vertical-align: middle;\n",
       "    }\n",
       "\n",
       "    .dataframe tbody tr th {\n",
       "        vertical-align: top;\n",
       "    }\n",
       "\n",
       "    .dataframe thead th {\n",
       "        text-align: right;\n",
       "    }\n",
       "</style>\n",
       "<table border=\"1\" class=\"dataframe\">\n",
       "  <thead>\n",
       "    <tr style=\"text-align: right;\">\n",
       "      <th></th>\n",
       "      <th>store_name</th>\n",
       "      <th>rating</th>\n",
       "      <th>review</th>\n",
       "      <th>reviewer_name</th>\n",
       "    </tr>\n",
       "  </thead>\n",
       "  <tbody>\n",
       "    <tr>\n",
       "      <th>0</th>\n",
       "      <td>49 SEATS</td>\n",
       "      <td>5</td>\n",
       "      <td>No reviews</td>\n",
       "      <td>yeong kx</td>\n",
       "    </tr>\n",
       "    <tr>\n",
       "      <th>1</th>\n",
       "      <td>49 SEATS</td>\n",
       "      <td>5</td>\n",
       "      <td>wowowow great vibes and food!! super eccentric...</td>\n",
       "      <td>Hannah Eva</td>\n",
       "    </tr>\n",
       "    <tr>\n",
       "      <th>2</th>\n",
       "      <td>49 SEATS</td>\n",
       "      <td>5</td>\n",
       "      <td>No reviews</td>\n",
       "      <td>Rain</td>\n",
       "    </tr>\n",
       "    <tr>\n",
       "      <th>3</th>\n",
       "      <td>49 SEATS</td>\n",
       "      <td>5</td>\n",
       "      <td>No reviews</td>\n",
       "      <td>Nicolette David</td>\n",
       "    </tr>\n",
       "    <tr>\n",
       "      <th>4</th>\n",
       "      <td>49 SEATS</td>\n",
       "      <td>4</td>\n",
       "      <td>We had the classic pasta and fish n chips with...</td>\n",
       "      <td>S dssp</td>\n",
       "    </tr>\n",
       "    <tr>\n",
       "      <th>...</th>\n",
       "      <td>...</td>\n",
       "      <td>...</td>\n",
       "      <td>...</td>\n",
       "      <td>...</td>\n",
       "    </tr>\n",
       "    <tr>\n",
       "      <th>2095</th>\n",
       "      <td>Miss Pizza</td>\n",
       "      <td>5</td>\n",
       "      <td>There are so many types of pizza; you are surp...</td>\n",
       "      <td>Salih Gursoy</td>\n",
       "    </tr>\n",
       "    <tr>\n",
       "      <th>2096</th>\n",
       "      <td>Miss Pizza</td>\n",
       "      <td>5</td>\n",
       "      <td>I tried the smoked ribeye pizza; the dough is ...</td>\n",
       "      <td>Kemal Amangeldi</td>\n",
       "    </tr>\n",
       "    <tr>\n",
       "      <th>2097</th>\n",
       "      <td>Miss Pizza</td>\n",
       "      <td>3</td>\n",
       "      <td>Crowded and expensive place.</td>\n",
       "      <td>Ulkem Esen</td>\n",
       "    </tr>\n",
       "    <tr>\n",
       "      <th>2098</th>\n",
       "      <td>Miss Pizza</td>\n",
       "      <td>3</td>\n",
       "      <td>No bad. It was very crowded; there was no ligh...</td>\n",
       "      <td>Ilkin Saymaz</td>\n",
       "    </tr>\n",
       "    <tr>\n",
       "      <th>2099</th>\n",
       "      <td>Miss Pizza</td>\n",
       "      <td>4</td>\n",
       "      <td>Excellent pizza and fine wine. Both food and b...</td>\n",
       "      <td>Samet Selcuk</td>\n",
       "    </tr>\n",
       "  </tbody>\n",
       "</table>\n",
       "<p>2100 rows × 4 columns</p>\n",
       "</div>"
      ],
      "text/plain": [
       "      store_name  rating                                             review  \\\n",
       "0       49 SEATS       5                                         No reviews   \n",
       "1       49 SEATS       5  wowowow great vibes and food!! super eccentric...   \n",
       "2       49 SEATS       5                                         No reviews   \n",
       "3       49 SEATS       5                                         No reviews   \n",
       "4       49 SEATS       4  We had the classic pasta and fish n chips with...   \n",
       "...          ...     ...                                                ...   \n",
       "2095  Miss Pizza       5  There are so many types of pizza; you are surp...   \n",
       "2096  Miss Pizza       5  I tried the smoked ribeye pizza; the dough is ...   \n",
       "2097  Miss Pizza       3                       Crowded and expensive place.   \n",
       "2098  Miss Pizza       3  No bad. It was very crowded; there was no ligh...   \n",
       "2099  Miss Pizza       4  Excellent pizza and fine wine. Both food and b...   \n",
       "\n",
       "        reviewer_name  \n",
       "0            yeong kx  \n",
       "1          Hannah Eva  \n",
       "2                Rain  \n",
       "3     Nicolette David  \n",
       "4              S dssp  \n",
       "...               ...  \n",
       "2095     Salih Gursoy  \n",
       "2096  Kemal Amangeldi  \n",
       "2097       Ulkem Esen  \n",
       "2098     Ilkin Saymaz  \n",
       "2099     Samet Selcuk  \n",
       "\n",
       "[2100 rows x 4 columns]"
      ]
     },
     "execution_count": 43,
     "metadata": {},
     "output_type": "execute_result"
    }
   ],
   "source": [
    "df_combined"
   ]
  },
  {
   "cell_type": "markdown",
   "id": "75db3bcf",
   "metadata": {},
   "source": [
    "### Translation for non-english reviews"
   ]
  },
  {
   "cell_type": "code",
   "execution_count": 44,
   "id": "13de6c37",
   "metadata": {},
   "outputs": [],
   "source": [
    "df_combined[\"review\"] = df_combined[\"review\"].str.replace(\"\\n\", \" \").str.replace(\"/\", \" \")\n",
    "\n",
    "def detect_and_translate(review):\n",
    "    language = detect(review)\n",
    "    if language != 'en':\n",
    "        try:\n",
    "            translated_review = GoogleTranslator(source='auto', target='en').translate(review)\n",
    "            return translated_review\n",
    "        except Exception as e:\n",
    "            print(f\"Translation error for review: {review}. Error: {e}\")\n",
    "            return review\n",
    "    else:\n",
    "        return review\n",
    "\n",
    "df_combined_translated = df_combined.copy()\n",
    "df_combined_translated[\"review\"] = df_combined_translated[\"review\"].apply(detect_and_translate)"
   ]
  },
  {
   "cell_type": "markdown",
   "id": "610a7818",
   "metadata": {},
   "source": [
    "### Remove entries which are still in other languages\n"
   ]
  },
  {
   "cell_type": "code",
   "execution_count": 45,
   "id": "9a736061",
   "metadata": {},
   "outputs": [],
   "source": [
    "df_combined_translated = df_combined_translated[\n",
    "    df_combined_translated[\"review\"].apply(lambda x: detect(str(x)) == \"en\")\n",
    "].reset_index(drop=True)\n"
   ]
  },
  {
   "cell_type": "code",
   "execution_count": 46,
   "id": "77e909a7",
   "metadata": {},
   "outputs": [
    {
     "name": "stdout",
     "output_type": "stream",
     "text": [
      "Total non-English reviews found: 0\n"
     ]
    }
   ],
   "source": [
    "count = 0\n",
    "for review in df_combined_translated[\"review\"]:\n",
    "    if detect(review) != 'en':\n",
    "        print(\"Non-English review found after translation:\", review)\n",
    "        count += 1\n",
    "print(\"Total non-English reviews found:\", count)"
   ]
  },
  {
   "cell_type": "markdown",
   "id": "7668deaa",
   "metadata": {},
   "source": [
    "### Remove linespaces and make the sentence lowercase"
   ]
  },
  {
   "cell_type": "code",
   "execution_count": 49,
   "id": "c149e41b",
   "metadata": {},
   "outputs": [],
   "source": [
    "# Clean reviews: remove newlines, slashes, extra spaces, lowercase\n",
    "def clean_review(text):\n",
    "    if isinstance(text, str):\n",
    "        text = text.replace(\"\\n\", \" \")       # replace line breaks with space\n",
    "        text = text.replace(\"/\", \" \")        # replace slashes with space\n",
    "        text = re.sub(r\"\\s+\", \" \", text)     # collapse multiple spaces into one\n",
    "        text = text.strip().lower()          # strip leading/trailing spaces + lowercase\n",
    "    return text\n",
    "\n",
    "df_combined_translated[\"review\"] = df_combined_translated[\"review\"].apply(clean_review)"
   ]
  },
  {
   "cell_type": "markdown",
   "id": "541d634b",
   "metadata": {},
   "source": [
    "### Generate cleaned and updated file"
   ]
  },
  {
   "cell_type": "code",
   "execution_count": 50,
   "id": "096dcfb1",
   "metadata": {},
   "outputs": [],
   "source": [
    "pd.DataFrame(df_combined_translated).to_csv('../data/cleaned_reviews.csv', index=False)"
   ]
  },
  {
   "cell_type": "code",
   "execution_count": 51,
   "id": "60b2a0e1",
   "metadata": {},
   "outputs": [
    {
     "data": {
      "text/plain": [
       "(2032, 4)"
      ]
     },
     "execution_count": 51,
     "metadata": {},
     "output_type": "execute_result"
    }
   ],
   "source": [
    "df_combined_translated.shape"
   ]
  }
 ],
 "metadata": {
  "kernelspec": {
   "display_name": "Python 3",
   "language": "python",
   "name": "python3"
  },
  "language_info": {
   "codemirror_mode": {
    "name": "ipython",
    "version": 3
   },
   "file_extension": ".py",
   "mimetype": "text/x-python",
   "name": "python",
   "nbconvert_exporter": "python",
   "pygments_lexer": "ipython3",
   "version": "3.13.6"
  }
 },
 "nbformat": 4,
 "nbformat_minor": 5
}
