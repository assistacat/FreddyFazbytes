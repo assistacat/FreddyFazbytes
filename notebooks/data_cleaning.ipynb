{
 "cells": [
  {
   "cell_type": "markdown",
   "id": "3b300a00",
   "metadata": {},
   "source": [
    "## Data Cleaning\n",
    "\n",
    "### End Goal\n",
    "The goal of this notebook is to clean the data and prepare it for analysis. This includes combining the datasets, replacing N.A. values in reviews and filtering out rows where there was no rating given."
   ]
  },
  {
   "cell_type": "markdown",
   "id": "9672078b",
   "metadata": {},
   "source": [
    "### Import Dependencies"
   ]
  },
  {
   "cell_type": "code",
   "execution_count": 24,
   "id": "b62d364e",
   "metadata": {},
   "outputs": [],
   "source": [
    "import pandas as pd\n",
    "import re\n",
    "import numpy as np\n",
    "# for detection of none english text\n",
    "from langdetect import detect, DetectorFactory\n",
    "# for translation purposes\n",
    "from deep_translator import GoogleTranslator\n",
    "# for handling emojis\n",
    "import emoji\n",
    "\n",
    "# For consistency in language detection\n",
    "DetectorFactory.seed = 42"
   ]
  },
  {
   "cell_type": "markdown",
   "id": "949c16ae",
   "metadata": {},
   "source": [
    "### Import the datasets"
   ]
  },
  {
   "cell_type": "code",
   "execution_count": 12,
   "id": "84c04aa5",
   "metadata": {},
   "outputs": [],
   "source": [
    "df_apify = pd.read_csv('../data/google_reviews_apify_dataset.csv')\n",
    "df_kaggle =pd.read_csv('../data/kaggle_reviews_raw.csv')"
   ]
  },
  {
   "cell_type": "code",
   "execution_count": 13,
   "id": "92a2fe77",
   "metadata": {},
   "outputs": [
    {
     "name": "stdout",
     "output_type": "stream",
     "text": [
      "Kaggle: 1100 reviews, Apify: 1000 reviews\n",
      "Kaggle columns: ['business_name', 'author_name', 'text', 'photo', 'rating', 'rating_category']\n",
      "Apify columns: ['title', 'url', 'stars', 'name', 'reviewUrl', 'text']\n"
     ]
    }
   ],
   "source": [
    "# Dataset Statistics\n",
    "print(f\"Kaggle: {len(df_kaggle)} reviews, Apify: {len(df_apify)} reviews\")\n",
    "print(\"Kaggle columns:\", df_kaggle.columns.tolist())\n",
    "print(\"Apify columns:\", df_apify.columns.tolist())"
   ]
  },
  {
   "cell_type": "markdown",
   "id": "ead817e6",
   "metadata": {},
   "source": [
    "### Standardize columns"
   ]
  },
  {
   "cell_type": "code",
   "execution_count": 14,
   "id": "20dd2feb",
   "metadata": {},
   "outputs": [],
   "source": [
    "df_apify_filtered = df_apify[[\"title\", \"stars\", \"text\", \"name\"]].rename(columns={\n",
    "    \"title\": \"store_name\",\n",
    "    \"stars\": \"rating\",\n",
    "    \"text\": \"review\",\n",
    "    \"name\":\"reviewer_name\",\n",
    "})\n",
    "\n",
    "df_kaggle_filtered = df_kaggle[[\"business_name\", \"rating\", \"text\", \"author_name\"]].rename(columns={\n",
    "    \"business_name\": \"store_name\",\n",
    "    \"rating\": \"rating\",\n",
    "    \"text\": \"review\",\n",
    "    \"author_name\": \"reviewer_name\",\n",
    "})\n"
   ]
  },
  {
   "cell_type": "code",
   "execution_count": 15,
   "id": "91f44806",
   "metadata": {},
   "outputs": [
    {
     "name": "stdout",
     "output_type": "stream",
     "text": [
      "Updated column headers for df_apify: ['store_name', 'rating', 'review', 'reviewer_name']\n",
      "Updated column headers for df_kaggle: ['store_name', 'rating', 'review', 'reviewer_name']\n"
     ]
    }
   ],
   "source": [
    "print(\"Updated column headers for df_apify:\", df_apify_filtered.columns.tolist())\n",
    "print(\"Updated column headers for df_kaggle:\", df_kaggle_filtered.columns.tolist())"
   ]
  },
  {
   "cell_type": "markdown",
   "id": "0c8aad96",
   "metadata": {},
   "source": [
    "### Combining the datasets"
   ]
  },
  {
   "cell_type": "code",
   "execution_count": 16,
   "id": "a2579585",
   "metadata": {},
   "outputs": [],
   "source": [
    "df_combined = pd.concat([df_apify_filtered, df_kaggle_filtered], ignore_index=True)"
   ]
  },
  {
   "cell_type": "code",
   "execution_count": 17,
   "id": "4856bd11",
   "metadata": {},
   "outputs": [
    {
     "name": "stdout",
     "output_type": "stream",
     "text": [
      "<class 'pandas.core.frame.DataFrame'>\n",
      "RangeIndex: 2100 entries, 0 to 2099\n",
      "Data columns (total 4 columns):\n",
      " #   Column         Non-Null Count  Dtype \n",
      "---  ------         --------------  ----- \n",
      " 0   store_name     2100 non-null   object\n",
      " 1   rating         2100 non-null   int64 \n",
      " 2   review         1845 non-null   object\n",
      " 3   reviewer_name  2100 non-null   object\n",
      "dtypes: int64(1), object(3)\n",
      "memory usage: 65.8+ KB\n"
     ]
    }
   ],
   "source": [
    "df_combined.info()"
   ]
  },
  {
   "cell_type": "markdown",
   "id": "6a14b60a",
   "metadata": {},
   "source": [
    "### Replacing Rows with no reviews with \"No reviews\""
   ]
  },
  {
   "cell_type": "code",
   "execution_count": 19,
   "id": "a2966f48",
   "metadata": {},
   "outputs": [],
   "source": [
    "df_combined[\"review\"] = df_combined[\"review\"].replace(\"\", \"No reviews\").replace(np.nan, \"No reviews\")"
   ]
  },
  {
   "cell_type": "code",
   "execution_count": null,
   "id": "adfa4c20",
   "metadata": {},
   "outputs": [
    {
     "data": {
      "text/plain": [
       "np.False_"
      ]
     },
     "execution_count": 22,
     "metadata": {},
     "output_type": "execute_result"
    }
   ],
   "source": [
    "# confirming no missing values\n",
    "df_combined[\"review\"].isna().any()"
   ]
  },
  {
   "cell_type": "markdown",
   "id": "049a66ba",
   "metadata": {},
   "source": [
    "### Handling of emojis in reviews"
   ]
  },
  {
   "cell_type": "code",
   "execution_count": null,
   "id": "a54e4fc3",
   "metadata": {},
   "outputs": [],
   "source": [
    "def replace_emojis(review):\n",
    "    if emoji.emoji_count(review) > 0:\n",
    "        # Replace emojis with their text representation\n",
    "        review = emoji.demojize(review, delimiters=(\"\", \"\"))\n",
    "    return review\n",
    "\n",
    "df_combined[\"review\"] = df_combined[\"review\"].apply(replace_emojis)"
   ]
  },
  {
   "cell_type": "code",
   "execution_count": 26,
   "id": "ff7c3704",
   "metadata": {},
   "outputs": [
    {
     "data": {
      "text/plain": [
       "np.int64(0)"
      ]
     },
     "execution_count": 26,
     "metadata": {},
     "output_type": "execute_result"
    }
   ],
   "source": [
    "# check for presence of emojis in reviews\n",
    "df_combined[\"review\"].apply(emoji.emoji_count).sum()"
   ]
  },
  {
   "cell_type": "markdown",
   "id": "75db3bcf",
   "metadata": {},
   "source": [
    "### Translation for non-english reviews"
   ]
  },
  {
   "cell_type": "code",
   "execution_count": 42,
   "id": "13de6c37",
   "metadata": {},
   "outputs": [],
   "source": [
    "df_combined[\"review\"] = df_combined[\"review\"].str.replace(\"\\n\", \" \").str.replace(\"/\", \" \")\n",
    "\n",
    "def detect_and_translate(review):\n",
    "    language = detect(review)\n",
    "    if language != 'en':\n",
    "        try:\n",
    "            translated_review = GoogleTranslator(source='auto', target='en').translate(review)\n",
    "            return translated_review\n",
    "        except Exception as e:\n",
    "            print(f\"Translation error for review: {review}. Error: {e}\")\n",
    "            return review\n",
    "    else:\n",
    "        return review\n",
    "\n",
    "df_combined_translated = df_combined.copy()\n",
    "df_combined_translated[\"review\"] = df_combined[\"review\"].apply(detect_and_translate)"
   ]
  },
  {
   "cell_type": "markdown",
   "id": "610a7818",
   "metadata": {},
   "source": [
    "### Remove entries which are still in other languages"
   ]
  },
  {
   "cell_type": "code",
   "execution_count": null,
   "id": "9a736061",
   "metadata": {},
   "outputs": [],
   "source": [
    "df_combined_translated = df_combined_translated[\n",
    "    df_combined_translated[\"review\"].apply(lambda x: detect(str(x)) == \"en\")\n",
    "].reset_index(drop=True)\n"
   ]
  },
  {
   "cell_type": "code",
   "execution_count": 45,
   "id": "77e909a7",
   "metadata": {},
   "outputs": [
    {
     "name": "stdout",
     "output_type": "stream",
     "text": [
      "Total non-English reviews found: 0\n"
     ]
    }
   ],
   "source": [
    "count = 0\n",
    "for review in df_combined_translated[\"review\"]:\n",
    "    if detect(review) != 'en':\n",
    "        print(\"Non-English review found after translation:\", review)\n",
    "        count += 1\n",
    "print(\"Total non-English reviews found:\", count)"
   ]
  },
  {
   "cell_type": "markdown",
   "id": "541d634b",
   "metadata": {},
   "source": [
    "### Generate cleaned and updated file"
   ]
  },
  {
   "cell_type": "code",
   "execution_count": 46,
   "id": "096dcfb1",
   "metadata": {},
   "outputs": [],
   "source": [
    "pd.DataFrame(df_combined_translated).to_csv('../data/cleaned_reviews.csv', index=False)"
   ]
  },
  {
   "cell_type": "code",
   "execution_count": 48,
   "id": "60b2a0e1",
   "metadata": {},
   "outputs": [
    {
     "data": {
      "text/plain": [
       "(2037, 4)"
      ]
     },
     "execution_count": 48,
     "metadata": {},
     "output_type": "execute_result"
    }
   ],
   "source": [
    "df_combined_translated.shape"
   ]
  },
  {
   "cell_type": "code",
   "execution_count": null,
   "id": "e2d5de5e",
   "metadata": {},
   "outputs": [],
   "source": []
  }
 ],
 "metadata": {
  "kernelspec": {
   "display_name": "Python 3",
   "language": "python",
   "name": "python3"
  },
  "language_info": {
   "codemirror_mode": {
    "name": "ipython",
    "version": 3
   },
   "file_extension": ".py",
   "mimetype": "text/x-python",
   "name": "python",
   "nbconvert_exporter": "python",
   "pygments_lexer": "ipython3",
   "version": "3.13.6"
  }
 },
 "nbformat": 4,
 "nbformat_minor": 5
}
