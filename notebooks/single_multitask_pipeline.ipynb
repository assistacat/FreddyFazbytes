{
 "cells": [
  {
   "cell_type": "markdown",
   "id": "67237226",
   "metadata": {},
   "source": [
    "# **Single Multitask Pipeline**"
   ]
  },
  {
   "cell_type": "markdown",
   "id": "eef2c1e0",
   "metadata": {},
   "source": [
    "**Pipeline:** cleaned dataset (csv) -> dataframe -> classify reviews -> prediction dataframe -> prediction (csv)"
   ]
  },
  {
   "cell_type": "markdown",
   "id": "915e6922",
   "metadata": {},
   "source": [
    "# Set up\n",
    "- Install the packages\n",
    "- Import dependencies"
   ]
  },
  {
   "cell_type": "code",
   "execution_count": 22,
   "id": "64b0ebef",
   "metadata": {},
   "outputs": [
    {
     "name": "stdout",
     "output_type": "stream",
     "text": [
      "Requirement already satisfied: pandas in d:\\application download for education\\lib\\site-packages (2.3.2)\n",
      "Requirement already satisfied: numpy in d:\\application download for education\\lib\\site-packages (2.3.2)\n",
      "Requirement already satisfied: matplotlib in d:\\application download for education\\lib\\site-packages (3.10.5)\n",
      "Requirement already satisfied: seaborn in d:\\application download for education\\lib\\site-packages (0.13.2)\n",
      "Requirement already satisfied: httpx in d:\\application download for education\\lib\\site-packages (0.28.1)\n",
      "Requirement already satisfied: tqdm in d:\\application download for education\\lib\\site-packages (4.67.1)\n",
      "Requirement already satisfied: scikit-learn in d:\\application download for education\\lib\\site-packages (1.7.1)\n",
      "Requirement already satisfied: python-dateutil>=2.8.2 in c:\\users\\vulan\\appdata\\roaming\\python\\python313\\site-packages (from pandas) (2.9.0.post0)\n",
      "Requirement already satisfied: pytz>=2020.1 in d:\\application download for education\\lib\\site-packages (from pandas) (2025.2)\n",
      "Requirement already satisfied: tzdata>=2022.7 in d:\\application download for education\\lib\\site-packages (from pandas) (2025.2)\n",
      "Requirement already satisfied: contourpy>=1.0.1 in d:\\application download for education\\lib\\site-packages (from matplotlib) (1.3.3)\n",
      "Requirement already satisfied: cycler>=0.10 in d:\\application download for education\\lib\\site-packages (from matplotlib) (0.12.1)\n",
      "Requirement already satisfied: fonttools>=4.22.0 in d:\\application download for education\\lib\\site-packages (from matplotlib) (4.59.1)\n",
      "Requirement already satisfied: kiwisolver>=1.3.1 in d:\\application download for education\\lib\\site-packages (from matplotlib) (1.4.9)\n",
      "Requirement already satisfied: packaging>=20.0 in c:\\users\\vulan\\appdata\\roaming\\python\\python313\\site-packages (from matplotlib) (25.0)\n",
      "Requirement already satisfied: pillow>=8 in d:\\application download for education\\lib\\site-packages (from matplotlib) (11.3.0)\n",
      "Requirement already satisfied: pyparsing>=2.3.1 in d:\\application download for education\\lib\\site-packages (from matplotlib) (3.2.3)\n",
      "Requirement already satisfied: anyio in d:\\application download for education\\lib\\site-packages (from httpx) (4.10.0)\n",
      "Requirement already satisfied: certifi in d:\\application download for education\\lib\\site-packages (from httpx) (2025.8.3)\n",
      "Requirement already satisfied: httpcore==1.* in d:\\application download for education\\lib\\site-packages (from httpx) (1.0.9)\n",
      "Requirement already satisfied: idna in d:\\application download for education\\lib\\site-packages (from httpx) (3.10)\n",
      "Requirement already satisfied: h11>=0.16 in d:\\application download for education\\lib\\site-packages (from httpcore==1.*->httpx) (0.16.0)\n",
      "Requirement already satisfied: colorama in c:\\users\\vulan\\appdata\\roaming\\python\\python313\\site-packages (from tqdm) (0.4.6)\n",
      "Requirement already satisfied: scipy>=1.8.0 in d:\\application download for education\\lib\\site-packages (from scikit-learn) (1.16.1)\n",
      "Requirement already satisfied: joblib>=1.2.0 in d:\\application download for education\\lib\\site-packages (from scikit-learn) (1.5.2)\n",
      "Requirement already satisfied: threadpoolctl>=3.1.0 in d:\\application download for education\\lib\\site-packages (from scikit-learn) (3.6.0)\n",
      "Requirement already satisfied: six>=1.5 in c:\\users\\vulan\\appdata\\roaming\\python\\python313\\site-packages (from python-dateutil>=2.8.2->pandas) (1.17.0)\n",
      "Requirement already satisfied: sniffio>=1.1 in d:\\application download for education\\lib\\site-packages (from anyio->httpx) (1.3.1)\n",
      "Note: you may need to restart the kernel to use updated packages.\n"
     ]
    },
    {
     "name": "stderr",
     "output_type": "stream",
     "text": [
      "\n",
      "[notice] A new release of pip is available: 25.0.1 -> 25.2\n",
      "[notice] To update, run: python.exe -m pip install --upgrade pip\n"
     ]
    }
   ],
   "source": [
    "%pip install pandas numpy matplotlib seaborn httpx tqdm scikit-learn"
   ]
  },
  {
   "cell_type": "code",
   "execution_count": 2,
   "id": "1b311e35",
   "metadata": {},
   "outputs": [],
   "source": [
    "import pandas as pd\n",
    "import httpx\n",
    "import json\n",
    "from tqdm import tqdm\n",
    "import ast"
   ]
  },
  {
   "cell_type": "markdown",
   "id": "05f59f6b",
   "metadata": {},
   "source": [
    "# Multi-task Pipeline\n",
    "This pipeline treat the reviews **one by one**. For every review, the function send one request to the AI model"
   ]
  },
  {
   "cell_type": "markdown",
   "id": "3ecaf5da",
   "metadata": {},
   "source": [
    "Load the dataset"
   ]
  },
  {
   "cell_type": "code",
   "execution_count": null,
   "id": "5b3ca13a",
   "metadata": {},
   "outputs": [
    {
     "data": {
      "text/html": [
       "<div>\n",
       "<style scoped>\n",
       "    .dataframe tbody tr th:only-of-type {\n",
       "        vertical-align: middle;\n",
       "    }\n",
       "\n",
       "    .dataframe tbody tr th {\n",
       "        vertical-align: top;\n",
       "    }\n",
       "\n",
       "    .dataframe thead th {\n",
       "        text-align: right;\n",
       "    }\n",
       "</style>\n",
       "<table border=\"1\" class=\"dataframe\">\n",
       "  <thead>\n",
       "    <tr style=\"text-align: right;\">\n",
       "      <th></th>\n",
       "      <th>store_name</th>\n",
       "      <th>rating</th>\n",
       "      <th>review</th>\n",
       "      <th>reviewer_name</th>\n",
       "    </tr>\n",
       "  </thead>\n",
       "  <tbody>\n",
       "    <tr>\n",
       "      <th>0</th>\n",
       "      <td>49 SEATS</td>\n",
       "      <td>5</td>\n",
       "      <td>wowowow great vibes and food!! super eccentric...</td>\n",
       "      <td>Hannah Eva</td>\n",
       "    </tr>\n",
       "    <tr>\n",
       "      <th>1</th>\n",
       "      <td>49 SEATS</td>\n",
       "      <td>4</td>\n",
       "      <td>We had the classic pasta and fish n chips with...</td>\n",
       "      <td>S dssp</td>\n",
       "    </tr>\n",
       "    <tr>\n",
       "      <th>2</th>\n",
       "      <td>49 SEATS</td>\n",
       "      <td>5</td>\n",
       "      <td>Its an amazing restaurant with good vibes</td>\n",
       "      <td>Sanjith</td>\n",
       "    </tr>\n",
       "    <tr>\n",
       "      <th>3</th>\n",
       "      <td>49 SEATS</td>\n",
       "      <td>5</td>\n",
       "      <td>great atmosphere</td>\n",
       "      <td>Vivian L</td>\n",
       "    </tr>\n",
       "    <tr>\n",
       "      <th>4</th>\n",
       "      <td>49 SEATS</td>\n",
       "      <td>5</td>\n",
       "      <td>Great atmosphere and vibes!</td>\n",
       "      <td>Jayden</td>\n",
       "    </tr>\n",
       "  </tbody>\n",
       "</table>\n",
       "</div>"
      ],
      "text/plain": [
       "  store_name  rating                                             review  \\\n",
       "0   49 SEATS       5  wowowow great vibes and food!! super eccentric...   \n",
       "1   49 SEATS       4  We had the classic pasta and fish n chips with...   \n",
       "2   49 SEATS       5          Its an amazing restaurant with good vibes   \n",
       "3   49 SEATS       5                                   great atmosphere   \n",
       "4   49 SEATS       5                        Great atmosphere and vibes!   \n",
       "\n",
       "  reviewer_name  \n",
       "0    Hannah Eva  \n",
       "1        S dssp  \n",
       "2       Sanjith  \n",
       "3      Vivian L  \n",
       "4        Jayden  "
      ]
     },
     "execution_count": 3,
     "metadata": {},
     "output_type": "execute_result"
    }
   ],
   "source": [
    "df = pd.read_csv('../data/cleaned_reviews_noempty.csv')\n",
    "df.head()"
   ]
  },
  {
   "cell_type": "markdown",
   "id": "1405e639",
   "metadata": {},
   "source": [
    "Prompt setup"
   ]
  },
  {
   "cell_type": "code",
   "execution_count": null,
   "id": "c5357a4e",
   "metadata": {},
   "outputs": [],
   "source": [
    "# Read single-task prompts from .txt files using a helper function\n",
    "def read_prompt(filename):\n",
    "    # Input: filename (str) - path to the .txt file containing the prompt\n",
    "    # Output: prompt (str) - the prompt text read from the file\n",
    "    file_path = os.path.join(\"..\", \"prompts\", filename)\n",
    "    with open(file_path, 'r', encoding='utf-8') as f:\n",
    "        return f.read()\n",
    "\n",
    "return_type_prompt = \"After clarifying, return a dictionary with key are Ad, Irr, Rant, or Val, value : 1 for detected, 0 for not detected.\"\n",
    "multitask_prompt = read_prompt('few_shot_prompt.txt') "
   ]
  },
  {
   "cell_type": "markdown",
   "id": "ce1e3dab",
   "metadata": {},
   "source": [
    "Classify function:\n",
    "- Input: dataframe \n",
    "- Output: dataframe with predictions"
   ]
  },
  {
   "cell_type": "markdown",
   "id": "0b226e65",
   "metadata": {},
   "source": [
    "Parse in the desired \"multitask_model_name\":\n",
    "- for qwen-3-8b: \"qwen/qwen3-8b:free\"\n",
    "- for gemma-3-12b: \"google/gemma-3-12b-it:free\""
   ]
  },
  {
   "cell_type": "code",
   "execution_count": null,
   "id": "ed6efeb7",
   "metadata": {},
   "outputs": [],
   "source": [
    "def classify_df(df, api_key):\n",
    "    headers = {\n",
    "        \"Authorization\": f\"Bearer {api_key}\",\n",
    "        \"X-Title\": \"Multitask Review Classification\",\n",
    "        \"Content-Type\": \"application/json\"\n",
    "    }\n",
    "\n",
    "    multitask_model_name = \"google/gemma-3-12b-it:free\" # plug the desired model name here\n",
    "\n",
    "    reviews = df['review'].tolist()\n",
    "\n",
    "    ad_preds = []\n",
    "    irrelevant_preds = []\n",
    "    rant_preds = []\n",
    "    val_preds = []\n",
    "\n",
    "    def classify_review(review, rating, store_name, reviewer_name):\n",
    "        prompt = multitask_prompt + \"\\n\" + return_type_prompt\n",
    "        user_content = prompt.format(\n",
    "            clean_text=review,\n",
    "            rating=rating,\n",
    "            store_name=store_name,\n",
    "            reviewer_name=reviewer_name\n",
    "        )\n",
    "        data = {\n",
    "            \"model\": multitask_model_name,\n",
    "            \"messages\": [\n",
    "                {\"role\": \"system\", \"content\": \"You are a helpful assistant.\"},\n",
    "                {\"role\": \"user\", \"content\": user_content}\n",
    "            ]\n",
    "        }\n",
    "        with httpx.Client() as client:\n",
    "            resp = client.post(\n",
    "                \"https://openrouter.ai/api/v1/chat/completions\",\n",
    "                headers=headers,\n",
    "                json=data,\n",
    "                timeout=60\n",
    "            )\n",
    "            resp.raise_for_status()\n",
    "            result = resp.json()\n",
    "            return result[\"choices\"][0][\"message\"][\"content\"]\n",
    "\n",
    "    for idx in tqdm(range(len(reviews)), desc=\"Classifying reviews\"):\n",
    "        review = reviews[idx]\n",
    "        rating = df.loc[idx, 'rating']\n",
    "        store_name = df.loc[idx, 'store_name']\n",
    "        reviewer_name = df.loc[idx, 'reviewer_name']\n",
    "        pred = classify_review(review, rating, store_name, reviewer_name)\n",
    "        # Extract the dictionary from the pred string\n",
    "        start = pred.find('{')\n",
    "        end = pred.rfind('}') + 1\n",
    "        pred_dict = ast.literal_eval(pred[start:end])\n",
    "\n",
    "        ad_preds.append(pred_dict.get('Ad', 'NA'))\n",
    "        irrelevant_preds.append(pred_dict.get('Irr', 'NA'))\n",
    "        rant_preds.append(pred_dict.get('Rant', 'NA'))\n",
    "        val_preds.append(pred_dict.get('Val', 'NA'))\n",
    "\n",
    "    multitask_df = pd.DataFrame({\n",
    "        'review': reviews,\n",
    "        'val_pred': val_preds,\n",
    "        'ad_pred': ad_preds,\n",
    "        'irrelevant_pred': irrelevant_preds,\n",
    "        'rant_pred': rant_preds\n",
    "    })\n",
    "    multitask_df.to_csv('multitask_predictions.csv', index=False)\n",
    "    return multitask_df"
   ]
  },
  {
   "cell_type": "markdown",
   "id": "e319bce8",
   "metadata": {},
   "source": [
    "# To use:\n"
   ]
  },
  {
   "cell_type": "markdown",
   "id": "0de68f69",
   "metadata": {},
   "source": [
    "Set up the export function (from dataframe to csv)"
   ]
  },
  {
   "cell_type": "code",
   "execution_count": 21,
   "id": "e624037e",
   "metadata": {},
   "outputs": [],
   "source": [
    "def export_df_to_csv(df, filename):\n",
    "    df.to_csv(filename, index=False)"
   ]
  },
  {
   "cell_type": "markdown",
   "id": "a7adcb6c",
   "metadata": {},
   "source": [
    "Assign the API key variable"
   ]
  },
  {
   "cell_type": "code",
   "execution_count": null,
   "id": "d6f6886e",
   "metadata": {},
   "outputs": [],
   "source": [
    "api_1 = \"your_api\""
   ]
  },
  {
   "cell_type": "markdown",
   "id": "8e7c9c7b",
   "metadata": {},
   "source": [
    "- Batch 1: 0 to 9 index"
   ]
  },
  {
   "cell_type": "code",
   "execution_count": 20,
   "id": "ec0230fa",
   "metadata": {},
   "outputs": [
    {
     "data": {
      "text/html": [
       "<div>\n",
       "<style scoped>\n",
       "    .dataframe tbody tr th:only-of-type {\n",
       "        vertical-align: middle;\n",
       "    }\n",
       "\n",
       "    .dataframe tbody tr th {\n",
       "        vertical-align: top;\n",
       "    }\n",
       "\n",
       "    .dataframe thead th {\n",
       "        text-align: right;\n",
       "    }\n",
       "</style>\n",
       "<table border=\"1\" class=\"dataframe\">\n",
       "  <thead>\n",
       "    <tr style=\"text-align: right;\">\n",
       "      <th></th>\n",
       "      <th>store_name</th>\n",
       "      <th>rating</th>\n",
       "      <th>review</th>\n",
       "      <th>reviewer_name</th>\n",
       "    </tr>\n",
       "  </thead>\n",
       "  <tbody>\n",
       "    <tr>\n",
       "      <th>0</th>\n",
       "      <td>49 SEATS</td>\n",
       "      <td>5</td>\n",
       "      <td>wowowow great vibes and food!! super eccentric...</td>\n",
       "      <td>Hannah Eva</td>\n",
       "    </tr>\n",
       "    <tr>\n",
       "      <th>1</th>\n",
       "      <td>49 SEATS</td>\n",
       "      <td>4</td>\n",
       "      <td>We had the classic pasta and fish n chips with...</td>\n",
       "      <td>S dssp</td>\n",
       "    </tr>\n",
       "    <tr>\n",
       "      <th>2</th>\n",
       "      <td>49 SEATS</td>\n",
       "      <td>5</td>\n",
       "      <td>Its an amazing restaurant with good vibes</td>\n",
       "      <td>Sanjith</td>\n",
       "    </tr>\n",
       "    <tr>\n",
       "      <th>3</th>\n",
       "      <td>49 SEATS</td>\n",
       "      <td>5</td>\n",
       "      <td>great atmosphere</td>\n",
       "      <td>Vivian L</td>\n",
       "    </tr>\n",
       "    <tr>\n",
       "      <th>4</th>\n",
       "      <td>49 SEATS</td>\n",
       "      <td>5</td>\n",
       "      <td>Great atmosphere and vibes!</td>\n",
       "      <td>Jayden</td>\n",
       "    </tr>\n",
       "    <tr>\n",
       "      <th>5</th>\n",
       "      <td>49 SEATS</td>\n",
       "      <td>5</td>\n",
       "      <td>Wonderful food and service!</td>\n",
       "      <td>Andy Lim</td>\n",
       "    </tr>\n",
       "    <tr>\n",
       "      <th>6</th>\n",
       "      <td>49 SEATS</td>\n",
       "      <td>5</td>\n",
       "      <td>The atmosphere and service are excellent, enjo...</td>\n",
       "      <td>郑苡萱</td>\n",
       "    </tr>\n",
       "    <tr>\n",
       "      <th>7</th>\n",
       "      <td>49 SEATS</td>\n",
       "      <td>2</td>\n",
       "      <td>Resturant price, hawker center quality (the bl...</td>\n",
       "      <td>s z</td>\n",
       "    </tr>\n",
       "    <tr>\n",
       "      <th>8</th>\n",
       "      <td>49 SEATS</td>\n",
       "      <td>5</td>\n",
       "      <td>Always enjoy my meal there. Take note sometime...</td>\n",
       "      <td>AG Lee</td>\n",
       "    </tr>\n",
       "    <tr>\n",
       "      <th>9</th>\n",
       "      <td>49 SEATS</td>\n",
       "      <td>5</td>\n",
       "      <td>Atmosphere here is great, food wise is also aw...</td>\n",
       "      <td>lee shaoxuan</td>\n",
       "    </tr>\n",
       "  </tbody>\n",
       "</table>\n",
       "</div>"
      ],
      "text/plain": [
       "  store_name  rating                                             review  \\\n",
       "0   49 SEATS       5  wowowow great vibes and food!! super eccentric...   \n",
       "1   49 SEATS       4  We had the classic pasta and fish n chips with...   \n",
       "2   49 SEATS       5          Its an amazing restaurant with good vibes   \n",
       "3   49 SEATS       5                                   great atmosphere   \n",
       "4   49 SEATS       5                        Great atmosphere and vibes!   \n",
       "5   49 SEATS       5                        Wonderful food and service!   \n",
       "6   49 SEATS       5  The atmosphere and service are excellent, enjo...   \n",
       "7   49 SEATS       2  Resturant price, hawker center quality (the bl...   \n",
       "8   49 SEATS       5  Always enjoy my meal there. Take note sometime...   \n",
       "9   49 SEATS       5  Atmosphere here is great, food wise is also aw...   \n",
       "\n",
       "  reviewer_name  \n",
       "0    Hannah Eva  \n",
       "1        S dssp  \n",
       "2       Sanjith  \n",
       "3      Vivian L  \n",
       "4        Jayden  \n",
       "5      Andy Lim  \n",
       "6           郑苡萱  \n",
       "7           s z  \n",
       "8        AG Lee  \n",
       "9  lee shaoxuan  "
      ]
     },
     "execution_count": 20,
     "metadata": {},
     "output_type": "execute_result"
    }
   ],
   "source": [
    "df_0_9 = df[:10]\n",
    "df_0_9"
   ]
  },
  {
   "cell_type": "code",
   "execution_count": 22,
   "id": "8d3887ae",
   "metadata": {},
   "outputs": [
    {
     "name": "stderr",
     "output_type": "stream",
     "text": [
      "Classifying reviews: 100%|██████████| 10/10 [01:35<00:00,  9.59s/it]\n"
     ]
    }
   ],
   "source": [
    "df_0_9_pred = classify_df(df_0_9, api_1)"
   ]
  },
  {
   "cell_type": "code",
   "execution_count": 23,
   "id": "2f8f3d8a",
   "metadata": {},
   "outputs": [
    {
     "data": {
      "text/html": [
       "<div>\n",
       "<style scoped>\n",
       "    .dataframe tbody tr th:only-of-type {\n",
       "        vertical-align: middle;\n",
       "    }\n",
       "\n",
       "    .dataframe tbody tr th {\n",
       "        vertical-align: top;\n",
       "    }\n",
       "\n",
       "    .dataframe thead th {\n",
       "        text-align: right;\n",
       "    }\n",
       "</style>\n",
       "<table border=\"1\" class=\"dataframe\">\n",
       "  <thead>\n",
       "    <tr style=\"text-align: right;\">\n",
       "      <th></th>\n",
       "      <th>review</th>\n",
       "      <th>val_pred</th>\n",
       "      <th>ad_pred</th>\n",
       "      <th>irrelevant_pred</th>\n",
       "      <th>rant_pred</th>\n",
       "    </tr>\n",
       "  </thead>\n",
       "  <tbody>\n",
       "    <tr>\n",
       "      <th>0</th>\n",
       "      <td>wowowow great vibes and food!! super eccentric...</td>\n",
       "      <td>1</td>\n",
       "      <td>0</td>\n",
       "      <td>0</td>\n",
       "      <td>0</td>\n",
       "    </tr>\n",
       "    <tr>\n",
       "      <th>1</th>\n",
       "      <td>We had the classic pasta and fish n chips with...</td>\n",
       "      <td>1</td>\n",
       "      <td>0</td>\n",
       "      <td>0</td>\n",
       "      <td>0</td>\n",
       "    </tr>\n",
       "    <tr>\n",
       "      <th>2</th>\n",
       "      <td>Its an amazing restaurant with good vibes</td>\n",
       "      <td>1</td>\n",
       "      <td>0</td>\n",
       "      <td>0</td>\n",
       "      <td>0</td>\n",
       "    </tr>\n",
       "    <tr>\n",
       "      <th>3</th>\n",
       "      <td>great atmosphere</td>\n",
       "      <td>1</td>\n",
       "      <td>0</td>\n",
       "      <td>0</td>\n",
       "      <td>0</td>\n",
       "    </tr>\n",
       "    <tr>\n",
       "      <th>4</th>\n",
       "      <td>Great atmosphere and vibes!</td>\n",
       "      <td>1</td>\n",
       "      <td>0</td>\n",
       "      <td>0</td>\n",
       "      <td>0</td>\n",
       "    </tr>\n",
       "    <tr>\n",
       "      <th>5</th>\n",
       "      <td>Wonderful food and service!</td>\n",
       "      <td>1</td>\n",
       "      <td>0</td>\n",
       "      <td>0</td>\n",
       "      <td>0</td>\n",
       "    </tr>\n",
       "    <tr>\n",
       "      <th>6</th>\n",
       "      <td>The atmosphere and service are excellent, enjo...</td>\n",
       "      <td>1</td>\n",
       "      <td>0</td>\n",
       "      <td>0</td>\n",
       "      <td>0</td>\n",
       "    </tr>\n",
       "    <tr>\n",
       "      <th>7</th>\n",
       "      <td>Resturant price, hawker center quality (the bl...</td>\n",
       "      <td>1</td>\n",
       "      <td>0</td>\n",
       "      <td>0</td>\n",
       "      <td>0</td>\n",
       "    </tr>\n",
       "    <tr>\n",
       "      <th>8</th>\n",
       "      <td>Always enjoy my meal there. Take note sometime...</td>\n",
       "      <td>1</td>\n",
       "      <td>0</td>\n",
       "      <td>0</td>\n",
       "      <td>0</td>\n",
       "    </tr>\n",
       "    <tr>\n",
       "      <th>9</th>\n",
       "      <td>Atmosphere here is great, food wise is also aw...</td>\n",
       "      <td>0</td>\n",
       "      <td>1</td>\n",
       "      <td>0</td>\n",
       "      <td>0</td>\n",
       "    </tr>\n",
       "  </tbody>\n",
       "</table>\n",
       "</div>"
      ],
      "text/plain": [
       "                                              review  val_pred  ad_pred  \\\n",
       "0  wowowow great vibes and food!! super eccentric...         1        0   \n",
       "1  We had the classic pasta and fish n chips with...         1        0   \n",
       "2          Its an amazing restaurant with good vibes         1        0   \n",
       "3                                   great atmosphere         1        0   \n",
       "4                        Great atmosphere and vibes!         1        0   \n",
       "5                        Wonderful food and service!         1        0   \n",
       "6  The atmosphere and service are excellent, enjo...         1        0   \n",
       "7  Resturant price, hawker center quality (the bl...         1        0   \n",
       "8  Always enjoy my meal there. Take note sometime...         1        0   \n",
       "9  Atmosphere here is great, food wise is also aw...         0        1   \n",
       "\n",
       "   irrelevant_pred  rant_pred  \n",
       "0                0          0  \n",
       "1                0          0  \n",
       "2                0          0  \n",
       "3                0          0  \n",
       "4                0          0  \n",
       "5                0          0  \n",
       "6                0          0  \n",
       "7                0          0  \n",
       "8                0          0  \n",
       "9                0          0  "
      ]
     },
     "execution_count": 23,
     "metadata": {},
     "output_type": "execute_result"
    }
   ],
   "source": [
    "df_0_9_pred"
   ]
  },
  {
   "cell_type": "code",
   "execution_count": 24,
   "id": "9e66c27e",
   "metadata": {},
   "outputs": [],
   "source": [
    "export_df_to_csv(df_0_9_pred, \"df_0_9_pred.csv\")"
   ]
  }
 ],
 "metadata": {
  "kernelspec": {
   "display_name": "Python 3",
   "language": "python",
   "name": "python3"
  },
  "language_info": {
   "codemirror_mode": {
    "name": "ipython",
    "version": 3
   },
   "file_extension": ".py",
   "mimetype": "text/x-python",
   "name": "python",
   "nbconvert_exporter": "python",
   "pygments_lexer": "ipython3",
   "version": "3.13.3"
  }
 },
 "nbformat": 4,
 "nbformat_minor": 5
}
